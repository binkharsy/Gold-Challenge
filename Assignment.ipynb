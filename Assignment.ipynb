{
 "cells": [
  {
   "cell_type": "code",
   "execution_count": 1,
   "id": "53161374-0cdd-424b-8d0f-7ba3dfc15909",
   "metadata": {
    "tags": []
   },
   "outputs": [],
   "source": [
    "# import kebutuhan library\n",
    "import sqlite3\n",
    "import re\n",
    "import pandas as pd"
   ]
  },
  {
   "cell_type": "code",
   "execution_count": 2,
   "id": "c29cbf5e",
   "metadata": {},
   "outputs": [],
   "source": [
    "# buka file csv dengan pandas\n",
    "df = pd.read_csv('data.csv',encoding='ISO-8859-1')\n",
    "\n",
    "# buka koneksi ke file database 'testdb.db'\n",
    "conn = sqlite3.connect('testdb.db')\n"
   ]
  },
  {
   "cell_type": "code",
   "execution_count": 3,
   "id": "81b9cf8d",
   "metadata": {},
   "outputs": [],
   "source": [
    "# import sheet \"data\" ke table data\n",
    "df.to_sql(name=\"data\",con=conn,if_exists='replace',index=False)\n",
    "conn.commit()\n",
    "\n"
   ]
  },
  {
   "cell_type": "code",
   "execution_count": 4,
   "id": "20246c66",
   "metadata": {},
   "outputs": [],
   "source": [
    "# get data dari table ABUSIVE, hasil query di jadikan dataframe pandas\n",
    "dfAbusive = pd.read_sql_query(\"SELECT * FROM ABUSIVE\", conn)\n",
    "conn.close()\n",
    "\n",
    "# print(dfAbusive.head(100))"
   ]
  },
  {
   "cell_type": "code",
   "execution_count": 5,
   "id": "1d566c60",
   "metadata": {},
   "outputs": [],
   "source": [
    "# function untuk menyensor kata-kata abusive\n",
    "def remove_abusive_words(text, df = dfAbusive):\n",
    "    \n",
    "    # get list data abusive\n",
    "    abusive_words = df['abusive'].tolist()\n",
    "    \n",
    "    # check apakah ada kata-kata abusive atau kasar dalam data frame abusive_words\n",
    "    pattern = \"|\".join(re.escape(text) for text in abusive_words)\n",
    "    \n",
    "    # jika ada sensor dengan ####\n",
    "    cencored_text = re.sub(pattern, \"#######\", text, flags=re.IGNORECASE)\n",
    "    \n",
    "    return cencored_text\n",
    "\n"
   ]
  },
  {
   "cell_type": "code",
   "execution_count": 6,
   "id": "aea73260",
   "metadata": {},
   "outputs": [],
   "source": [
    "# validasi apakah text mengandung uncode \n",
    "def is_contains_unicode(text):\n",
    "    pattern = r'\\\\x[0-9a-fA-F]{2}.'\n",
    "\n",
    "    return bool(re.search(pattern, text))"
   ]
  },
  {
   "cell_type": "code",
   "execution_count": 7,
   "id": "c33184dd",
   "metadata": {},
   "outputs": [],
   "source": [
    "# function untuk menghapus escape chars seperti \\\\n atau \\\\t\n",
    "def remove_escape_chars(text):\n",
    "    pattern = r'\\\\[ntrbafv\"\\'\\\\]'\n",
    "    clean_text =  re.sub(pattern, '', text)\n",
    "    \n",
    "    return clean_text"
   ]
  },
  {
   "cell_type": "code",
   "execution_count": 8,
   "id": "8443389f",
   "metadata": {},
   "outputs": [],
   "source": [
    "# function cleansing text\n",
    "def cleanText(text):\n",
    "    cleaned_text = text\n",
    "    \n",
    "    \n",
    "    if is_contains_unicode(text):\n",
    "        pattern = r'\\\\x[0-9a-fA-F]{2}|\\\\'\n",
    "        clean_unicode = re.sub(pattern, '', text)\n",
    "        remove_escape_chars(clean_unicode)\n",
    "        cleaned_text = clean_unicode\n",
    "    else:\n",
    "        cleaned_text = remove_escape_chars(cleaned_text)\n",
    "        \n",
    "    \n",
    "    \n",
    "    return cleaned_text"
   ]
  },
  {
   "cell_type": "code",
   "execution_count": null,
   "id": "37377f60",
   "metadata": {},
   "outputs": [
    {
     "name": "stdout",
     "output_type": "stream",
     "text": [
      " * Serving Flask app '__main__'\n",
      " * Debug mode: on\n"
     ]
    },
    {
     "name": "stderr",
     "output_type": "stream",
     "text": [
      "WARNING: This is a development server. Do not use it in a production deployment. Use a production WSGI server instead.\n",
      " * Running on http://127.0.0.1:5000\n",
      "Press CTRL+C to quit\n",
      "127.0.0.1 - - [01/Dec/2023 17:40:35] \"GET / HTTP/1.1\" 200 -\n",
      "127.0.0.1 - - [01/Dec/2023 17:40:35] \"GET /swaggerui/swagger-ui-bundle.js HTTP/1.1\" 304 -\n",
      "127.0.0.1 - - [01/Dec/2023 17:40:35] \"GET /swaggerui/swagger-ui-standalone-preset.js HTTP/1.1\" 304 -\n",
      "127.0.0.1 - - [01/Dec/2023 17:40:35] \"GET /swaggerui/swagger-ui.css HTTP/1.1\" 304 -\n",
      "127.0.0.1 - - [01/Dec/2023 17:40:35] \"GET /swaggerui/droid-sans.css HTTP/1.1\" 304 -\n",
      "127.0.0.1 - - [01/Dec/2023 17:40:36] \"GET /swagger.json HTTP/1.1\" 200 -\n",
      "127.0.0.1 - - [01/Dec/2023 17:40:36] \"GET /swaggerui/favicon-32x32.png HTTP/1.1\" 304 -\n",
      "127.0.0.1 - - [01/Dec/2023 17:40:43] \"GET /cleansing HTTP/1.1\" 200 -\n",
      "127.0.0.1 - - [01/Dec/2023 19:18:30] \"GET / HTTP/1.1\" 200 -\n",
      "127.0.0.1 - - [01/Dec/2023 19:18:30] \"GET /swaggerui/droid-sans.css HTTP/1.1\" 304 -\n",
      "127.0.0.1 - - [01/Dec/2023 19:18:30] \"GET /swaggerui/swagger-ui.css HTTP/1.1\" 304 -\n",
      "127.0.0.1 - - [01/Dec/2023 19:18:30] \"GET /swaggerui/swagger-ui-bundle.js HTTP/1.1\" 304 -\n",
      "127.0.0.1 - - [01/Dec/2023 19:18:30] \"GET /swaggerui/swagger-ui-standalone-preset.js HTTP/1.1\" 304 -\n",
      "127.0.0.1 - - [01/Dec/2023 19:18:30] \"GET /swagger.json HTTP/1.1\" 200 -\n",
      "127.0.0.1 - - [01/Dec/2023 19:18:46] \"GET /cleansing HTTP/1.1\" 200 -\n",
      "127.0.0.1 - - [01/Dec/2023 19:55:15] \"GET /cleansing HTTP/1.1\" 200 -\n",
      "127.0.0.1 - - [01/Dec/2023 19:55:17] \"GET /cleansing HTTP/1.1\" 200 -\n",
      "127.0.0.1 - - [01/Dec/2023 21:47:32] \"GET /docs HTTP/1.1\" 404 -\n"
     ]
    }
   ],
   "source": [
    "# untuk menjalankan flask dan swagger\n",
    "from flask import Flask\n",
    "from flask_restx import Api, Resource\n",
    "\n",
    "app = Flask(__name__)\n",
    "api = Api(app)\n",
    "\n",
    "@api.route('/cleansing')\n",
    "class CleansingData(Resource):\n",
    "    def get(self):\n",
    "        \n",
    "        # connect ke database\n",
    "        with sqlite3.connect('testdb.db') as conn:\n",
    "            # object koneksi database\n",
    "            cursor = conn.cursor()\n",
    "            \n",
    "            # jalanin query\n",
    "            cursor.execute(\"SELECT Tweet FROM data LIMIT 100\")\n",
    "            \n",
    "            #tampil hasil query\n",
    "            rows = cursor.fetchall()\n",
    "            \n",
    "            #hasil query di cleansing\n",
    "            text = [remove_abusive_words(cleanText(str(row[0]))) for row in rows]\n",
    "\n",
    "            # print(remove_abusive_words(text))\n",
    "            \n",
    "            #hasi cleansing di tampilkan ke dalam json\n",
    "            return {'data': text}\n",
    "    \n",
    "\n",
    "if __name__ == '__main__':\n",
    "    app.run(debug=True, use_reloader=False)  # Set use_reloader to False to run in Jupyter\n"
   ]
  },
  {
   "cell_type": "code",
   "execution_count": null,
   "id": "1db051d9",
   "metadata": {},
   "outputs": [],
   "source": [
    "\n"
   ]
  },
  {
   "cell_type": "code",
   "execution_count": null,
   "id": "b5d1eac0",
   "metadata": {},
   "outputs": [],
   "source": []
  },
  {
   "cell_type": "code",
   "execution_count": null,
   "id": "1e829619",
   "metadata": {},
   "outputs": [],
   "source": []
  },
  {
   "cell_type": "code",
   "execution_count": null,
   "id": "c5dd092e",
   "metadata": {},
   "outputs": [],
   "source": []
  }
 ],
 "metadata": {
  "kernelspec": {
   "display_name": "Python 3 (ipykernel)",
   "language": "python",
   "name": "python3"
  },
  "language_info": {
   "codemirror_mode": {
    "name": "ipython",
    "version": 3
   },
   "file_extension": ".py",
   "mimetype": "text/x-python",
   "name": "python",
   "nbconvert_exporter": "python",
   "pygments_lexer": "ipython3",
   "version": "3.11.5"
  }
 },
 "nbformat": 4,
 "nbformat_minor": 5
}
